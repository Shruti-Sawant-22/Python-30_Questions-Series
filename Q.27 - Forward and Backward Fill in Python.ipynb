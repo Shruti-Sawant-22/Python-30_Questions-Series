{
 "cells": [
  {
   "cell_type": "markdown",
   "id": "5ad577dc",
   "metadata": {},
   "source": [
    "# Forward \"ffill\" and Backward \"bfill\" in Python"
   ]
  },
  {
   "cell_type": "code",
   "execution_count": 1,
   "id": "fadd92a3",
   "metadata": {},
   "outputs": [],
   "source": [
    "import pandas as pd \n",
    "import numpy as np"
   ]
  },
  {
   "cell_type": "code",
   "execution_count": 2,
   "id": "2d3cbe37",
   "metadata": {},
   "outputs": [
    {
     "data": {
      "text/html": [
       "<div>\n",
       "<style scoped>\n",
       "    .dataframe tbody tr th:only-of-type {\n",
       "        vertical-align: middle;\n",
       "    }\n",
       "\n",
       "    .dataframe tbody tr th {\n",
       "        vertical-align: top;\n",
       "    }\n",
       "\n",
       "    .dataframe thead th {\n",
       "        text-align: right;\n",
       "    }\n",
       "</style>\n",
       "<table border=\"1\" class=\"dataframe\">\n",
       "  <thead>\n",
       "    <tr style=\"text-align: right;\">\n",
       "      <th></th>\n",
       "      <th>A</th>\n",
       "      <th>B</th>\n",
       "      <th>C</th>\n",
       "    </tr>\n",
       "  </thead>\n",
       "  <tbody>\n",
       "    <tr>\n",
       "      <th>0</th>\n",
       "      <td>1</td>\n",
       "      <td>10</td>\n",
       "      <td>10.0</td>\n",
       "    </tr>\n",
       "    <tr>\n",
       "      <th>1</th>\n",
       "      <td>2</td>\n",
       "      <td>20</td>\n",
       "      <td>NaN</td>\n",
       "    </tr>\n",
       "    <tr>\n",
       "      <th>2</th>\n",
       "      <td>3</td>\n",
       "      <td>30</td>\n",
       "      <td>40.0</td>\n",
       "    </tr>\n",
       "    <tr>\n",
       "      <th>3</th>\n",
       "      <td>4</td>\n",
       "      <td>40</td>\n",
       "      <td>NaN</td>\n",
       "    </tr>\n",
       "    <tr>\n",
       "      <th>4</th>\n",
       "      <td>1</td>\n",
       "      <td>10</td>\n",
       "      <td>NaN</td>\n",
       "    </tr>\n",
       "    <tr>\n",
       "      <th>5</th>\n",
       "      <td>2</td>\n",
       "      <td>20</td>\n",
       "      <td>50.0</td>\n",
       "    </tr>\n",
       "  </tbody>\n",
       "</table>\n",
       "</div>"
      ],
      "text/plain": [
       "   A   B     C\n",
       "0  1  10  10.0\n",
       "1  2  20   NaN\n",
       "2  3  30  40.0\n",
       "3  4  40   NaN\n",
       "4  1  10   NaN\n",
       "5  2  20  50.0"
      ]
     },
     "execution_count": 2,
     "metadata": {},
     "output_type": "execute_result"
    }
   ],
   "source": [
    "df = pd.DataFrame({'A':[1,2,3,4,1,2],\n",
    "                  'B':[10,20,30,40,10,20],\n",
    "                  'C':[10,np.nan,40,np.nan,np.nan,50]\n",
    "                  })\n",
    "df"
   ]
  },
  {
   "cell_type": "code",
   "execution_count": 3,
   "id": "5c182943",
   "metadata": {},
   "outputs": [
    {
     "data": {
      "text/plain": [
       "0    10.0\n",
       "1    10.0\n",
       "2    40.0\n",
       "3    40.0\n",
       "4    40.0\n",
       "5    50.0\n",
       "Name: C, dtype: float64"
      ]
     },
     "execution_count": 3,
     "metadata": {},
     "output_type": "execute_result"
    }
   ],
   "source": [
    "#Applying Forward fill and displaying the output\n",
    "\n",
    "df['C'].replace(to_replace=np.nan, method='ffill')"
   ]
  },
  {
   "cell_type": "code",
   "execution_count": 4,
   "id": "e07229a9",
   "metadata": {},
   "outputs": [
    {
     "data": {
      "text/plain": [
       "0    10.0\n",
       "1    40.0\n",
       "2    40.0\n",
       "3    50.0\n",
       "4    50.0\n",
       "5    50.0\n",
       "Name: C, dtype: float64"
      ]
     },
     "execution_count": 4,
     "metadata": {},
     "output_type": "execute_result"
    }
   ],
   "source": [
    "#Applying Backward fill and displaying the output\n",
    "\n",
    "df['C'].replace(to_replace=np.nan, method='bfill')"
   ]
  },
  {
   "cell_type": "markdown",
   "id": "051d12e8",
   "metadata": {},
   "source": [
    "**\"ffill\" stands for forward filling. In this method we fill the NaN values in top to Bottom direction. i.e (⬇)**\n",
    "\n",
    "**\"ffill\" stands for forward filling. In this method we fill the NaN values in Bottom to Top direction. i.e (⬆)**"
   ]
  },
  {
   "cell_type": "markdown",
   "id": "2f8edac8",
   "metadata": {},
   "source": [
    "## ----------------------------------------------------Question 27 Ends -------------------------------------------------------\n"
   ]
  },
  {
   "cell_type": "code",
   "execution_count": null,
   "id": "2fbc9366",
   "metadata": {},
   "outputs": [],
   "source": []
  }
 ],
 "metadata": {
  "kernelspec": {
   "display_name": "Python 3",
   "language": "python",
   "name": "python3"
  },
  "language_info": {
   "codemirror_mode": {
    "name": "ipython",
    "version": 3
   },
   "file_extension": ".py",
   "mimetype": "text/x-python",
   "name": "python",
   "nbconvert_exporter": "python",
   "pygments_lexer": "ipython3",
   "version": "3.8.8"
  }
 },
 "nbformat": 4,
 "nbformat_minor": 5
}
