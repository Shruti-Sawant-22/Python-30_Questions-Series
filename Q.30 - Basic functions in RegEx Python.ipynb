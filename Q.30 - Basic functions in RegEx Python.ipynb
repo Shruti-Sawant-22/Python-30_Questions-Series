{
 "cells": [
  {
   "cell_type": "markdown",
   "id": "e6e42e2a",
   "metadata": {},
   "source": [
    "# Some Basic functions in RegEx"
   ]
  },
  {
   "cell_type": "markdown",
   "id": "75eca614",
   "metadata": {},
   "source": [
    "➡️ REGULAR EXPRESSION (RegEx) IN PYTHON\n",
    "\n",
    "\n",
    "🔷What is Regex?                                                                                             \n",
    "📌A RegEx, or Regular Expressions are used to match strings of text such as particular characters, words, or patterns of characters.                                                                                                   \n",
    "📌It is a sequence of character that forms a search pattern.                                                 \n",
    "\n",
    "-------------------------------------------------------------------------------------------------------------------\n",
    "\n",
    "🔷HOW TO USE RegEx?                                                                                                      \n",
    "📌Python has a built-in package called re, which can be used to work with Regular Expressions.                                 \n",
    "📌To import the module: import re \n",
    "    \n",
    "---------------------------------------------------------------------------------------------------------------------\n",
    "\n",
    "🔷BASIC FUNCTIONS IN RegEx ALONG WITH THEIR DISCRIPTION.                                                                 \n",
    "📌Listing some of the basic functions along with their discription below.                                                       \n",
    "➡Function        Description                                                                                           \n",
    "1. findall------>Returns a list containing all matches                                                                    \n",
    "2. search------>Returns a Match object if there is a match anywhere in the string                                          \n",
    "3. split-------->Returns a list where the string has been split at each match                                            \n",
    "4. sub---------->Replaces one or many matches with a string                                                                   \n",
    "👉Note: RegEx is not just limited to the above four function, there are many advance function and Meta Characters available in RegEx.\n",
    "    \n",
    "---------------------------------------------------------------------------------------------------------------------\n",
    "\n",
    "🔷WHERE IS RegEx USED?                                                                                           \n",
    "📌Regexes are useful in a wide variety of text processing tasks, and more generally string processing,where the data need not be textual.                                                                                                              \n",
    "📌Common applications include data validation, data scraping (especially web scraping),data wrangling,etc.                \n",
    "\n"
   ]
  },
  {
   "cell_type": "code",
   "execution_count": 1,
   "id": "d31d73b8",
   "metadata": {},
   "outputs": [],
   "source": [
    "#importing RegEx\n",
    "\n",
    "import re"
   ]
  },
  {
   "cell_type": "markdown",
   "id": "7c41b1a8",
   "metadata": {},
   "source": [
    "### **1. Using \"finall\" function in RegEx.**"
   ]
  },
  {
   "cell_type": "code",
   "execution_count": 2,
   "id": "e4a0cd13",
   "metadata": {},
   "outputs": [
    {
     "name": "stdout",
     "output_type": "stream",
     "text": [
      "['ai', 'ai']\n"
     ]
    }
   ],
   "source": [
    "string = \"no pain, no gain\"\n",
    "x = re.findall(\"ai\", string)\n",
    "print(x)\n"
   ]
  },
  {
   "cell_type": "markdown",
   "id": "b3f97257",
   "metadata": {},
   "source": [
    "### **2. Using \"search\" function in Regex.**                                                                                  \n",
    "\n",
    "  **Syntax: match = re.search(pattern, str)**"
   ]
  },
  {
   "cell_type": "code",
   "execution_count": 3,
   "id": "b7802c83",
   "metadata": {},
   "outputs": [
    {
     "name": "stdout",
     "output_type": "stream",
     "text": [
      "pattern found inside the string\n"
     ]
    }
   ],
   "source": [
    "string = \"Data Science is fun\"\n",
    "\n",
    "# check if 'Python' is at the beginning\n",
    "match = re.search('\\AData', string)\n",
    "\n",
    "if match:\n",
    "    print(\"pattern found inside the string\")\n",
    "else:\n",
    "    print(\"pattern not found\")  "
   ]
  },
  {
   "cell_type": "markdown",
   "id": "2526309b",
   "metadata": {},
   "source": [
    "### 3. Using \"split\" function in Regex"
   ]
  },
  {
   "cell_type": "code",
   "execution_count": 4,
   "id": "f99ac0aa",
   "metadata": {},
   "outputs": [
    {
     "name": "stdout",
     "output_type": "stream",
     "text": [
      "['Male:', '  Female:', '  Other:', '.']\n"
     ]
    }
   ],
   "source": [
    "string = 'Male:10  Female:10  Other:10.'\n",
    "pattern = '\\d+'\n",
    "\n",
    "result = re.split(pattern, string) \n",
    "print(result)\n"
   ]
  },
  {
   "cell_type": "markdown",
   "id": "49fa48fe",
   "metadata": {},
   "source": [
    "## ----------------------------------------------------Question 30 Ends ---------------------------------------------------"
   ]
  },
  {
   "cell_type": "code",
   "execution_count": null,
   "id": "56dac4c9",
   "metadata": {},
   "outputs": [],
   "source": []
  }
 ],
 "metadata": {
  "kernelspec": {
   "display_name": "Python 3",
   "language": "python",
   "name": "python3"
  },
  "language_info": {
   "codemirror_mode": {
    "name": "ipython",
    "version": 3
   },
   "file_extension": ".py",
   "mimetype": "text/x-python",
   "name": "python",
   "nbconvert_exporter": "python",
   "pygments_lexer": "ipython3",
   "version": "3.8.8"
  }
 },
 "nbformat": 4,
 "nbformat_minor": 5
}
