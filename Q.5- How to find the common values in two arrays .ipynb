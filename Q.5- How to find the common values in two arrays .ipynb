{
 "cells": [
  {
   "cell_type": "markdown",
   "id": "543ca0ec",
   "metadata": {},
   "source": [
    "# How to find the common values in two array/columns"
   ]
  },
  {
   "cell_type": "code",
   "execution_count": 1,
   "id": "ebe7b1eb",
   "metadata": {},
   "outputs": [],
   "source": [
    "# Importing Library\n",
    "\n",
    "import numpy as np"
   ]
  },
  {
   "cell_type": "code",
   "execution_count": 2,
   "id": "58184a40",
   "metadata": {},
   "outputs": [],
   "source": [
    "# Create two arrays for example\n",
    "\n",
    "array_1=np.array([10,11,12,13,14])\n",
    "array_2=[12,13,15]"
   ]
  },
  {
   "cell_type": "code",
   "execution_count": 3,
   "id": "5ea20b6f",
   "metadata": {},
   "outputs": [
    {
     "name": "stdout",
     "output_type": "stream",
     "text": [
      "[12 13]\n"
     ]
    }
   ],
   "source": [
    "# np.intersect() will give you the intersection that is the common values between those two arrays  \n",
    "\n",
    "print(np.intersect1d(array_1,array_2))"
   ]
  },
  {
   "cell_type": "markdown",
   "id": "59f3c94f",
   "metadata": {},
   "source": [
    "### ----------------------------------------------------Question 5 Ends -------------------------------------------------------"
   ]
  },
  {
   "cell_type": "code",
   "execution_count": null,
   "id": "e2a011be",
   "metadata": {},
   "outputs": [],
   "source": []
  }
 ],
 "metadata": {
  "kernelspec": {
   "display_name": "Python 3",
   "language": "python",
   "name": "python3"
  },
  "language_info": {
   "codemirror_mode": {
    "name": "ipython",
    "version": 3
   },
   "file_extension": ".py",
   "mimetype": "text/x-python",
   "name": "python",
   "nbconvert_exporter": "python",
   "pygments_lexer": "ipython3",
   "version": "3.8.8"
  }
 },
 "nbformat": 4,
 "nbformat_minor": 5
}
