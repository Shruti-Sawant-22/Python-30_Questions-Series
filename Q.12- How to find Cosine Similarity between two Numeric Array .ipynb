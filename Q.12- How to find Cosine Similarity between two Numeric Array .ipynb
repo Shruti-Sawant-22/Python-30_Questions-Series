{
 "cells": [
  {
   "cell_type": "markdown",
   "id": "0db35c9a",
   "metadata": {},
   "source": [
    "# How to find Cosine Similarity between two numeric array in Python"
   ]
  },
  {
   "cell_type": "markdown",
   "id": "24300ad9",
   "metadata": {},
   "source": [
    "### Cosine similarity measures the similarity between two vectors. It is measured by the cosine of the ange between those two vectors."
   ]
  },
  {
   "cell_type": "code",
   "execution_count": 1,
   "id": "0e4228e7",
   "metadata": {},
   "outputs": [],
   "source": [
    "#Here we will see two ways of finding the Cosine Similarity between two array.\n"
   ]
  },
  {
   "cell_type": "markdown",
   "id": "516c6a50",
   "metadata": {},
   "source": [
    "### METHOD 1:"
   ]
  },
  {
   "cell_type": "code",
   "execution_count": 2,
   "id": "8e07567b",
   "metadata": {},
   "outputs": [],
   "source": [
    "#Import Library\n",
    "\n",
    "import numpy as np\n",
    "\n",
    "from numpy.linalg import norm\n",
    "from numpy import dot"
   ]
  },
  {
   "cell_type": "code",
   "execution_count": 3,
   "id": "39ac5b0f",
   "metadata": {},
   "outputs": [],
   "source": [
    "# Create an example arrays\n",
    "\n",
    "\n",
    "a = [2, 3, 4, 5, 6]\n",
    "b = [7, 8, 2, 9, 3]\n"
   ]
  },
  {
   "cell_type": "code",
   "execution_count": 4,
   "id": "87a8e93c",
   "metadata": {},
   "outputs": [],
   "source": [
    "cos_sim = dot(a, b)/(norm(a)*norm(b))"
   ]
  },
  {
   "cell_type": "code",
   "execution_count": 5,
   "id": "352e19f0",
   "metadata": {},
   "outputs": [
    {
     "data": {
      "text/plain": [
       "0.798583017779342"
      ]
     },
     "execution_count": 5,
     "metadata": {},
     "output_type": "execute_result"
    }
   ],
   "source": [
    "cos_sim"
   ]
  },
  {
   "cell_type": "markdown",
   "id": "46bd1e4f",
   "metadata": {},
   "source": [
    "From above value we can say that there is 79% similarity between a and b "
   ]
  },
  {
   "cell_type": "markdown",
   "id": "cdf51a24",
   "metadata": {},
   "source": [
    "### METHOD 2:"
   ]
  },
  {
   "cell_type": "code",
   "execution_count": 6,
   "id": "08e152a0",
   "metadata": {},
   "outputs": [],
   "source": [
    "# import cosine similarity measure \n",
    "\n",
    "\n",
    "from sklearn.metrics.pairwise import cosine_similarity"
   ]
  },
  {
   "cell_type": "code",
   "execution_count": 7,
   "id": "2a422409",
   "metadata": {},
   "outputs": [],
   "source": [
    "# Create an example arrays\n",
    "\n",
    "arr1=np.array([[1,1,2,3,1]])\n",
    "arr2=np.array([[1,1,2,4.5,1]])"
   ]
  },
  {
   "cell_type": "code",
   "execution_count": 8,
   "id": "066c18e9",
   "metadata": {},
   "outputs": [
    {
     "data": {
      "text/plain": [
       "array([[0.98177194]])"
      ]
     },
     "execution_count": 8,
     "metadata": {},
     "output_type": "execute_result"
    }
   ],
   "source": [
    "# Check the cosine similarity between aar1 and arr2 \n",
    "\n",
    "cosine_similarity_array= cosine_similarity(arr1,arr2)\n",
    "cosine_similarity_array"
   ]
  },
  {
   "cell_type": "markdown",
   "id": "bfa4d89a",
   "metadata": {},
   "source": [
    "From above value we can say that there is 98% similarity between arr1 and arr2 "
   ]
  },
  {
   "cell_type": "markdown",
   "id": "3a0d24f2",
   "metadata": {},
   "source": [
    "### ----------------------------------------------------Question 12 Ends -------------------------------------------------------"
   ]
  },
  {
   "cell_type": "code",
   "execution_count": null,
   "id": "75dc6ca5",
   "metadata": {},
   "outputs": [],
   "source": []
  }
 ],
 "metadata": {
  "kernelspec": {
   "display_name": "Python 3",
   "language": "python",
   "name": "python3"
  },
  "language_info": {
   "codemirror_mode": {
    "name": "ipython",
    "version": 3
   },
   "file_extension": ".py",
   "mimetype": "text/x-python",
   "name": "python",
   "nbconvert_exporter": "python",
   "pygments_lexer": "ipython3",
   "version": "3.8.8"
  }
 },
 "nbformat": 4,
 "nbformat_minor": 5
}
