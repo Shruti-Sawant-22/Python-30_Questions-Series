{
 "cells": [
  {
   "cell_type": "markdown",
   "id": "a6d4a957",
   "metadata": {},
   "source": [
    "# How do you filter on substring on a pandas dataframe."
   ]
  },
  {
   "cell_type": "code",
   "execution_count": 1,
   "id": "154a1bf8",
   "metadata": {},
   "outputs": [],
   "source": [
    "# Importing Library\n",
    "\n",
    "import pandas as pd"
   ]
  },
  {
   "cell_type": "code",
   "execution_count": 2,
   "id": "f7b9c341",
   "metadata": {},
   "outputs": [
    {
     "data": {
      "text/plain": [
       "{'month': ['January',\n",
       "  'February',\n",
       "  'March',\n",
       "  'April',\n",
       "  'May',\n",
       "  'June',\n",
       "  'July',\n",
       "  'August',\n",
       "  'September',\n",
       "  'October',\n",
       "  'November',\n",
       "  'December'],\n",
       " 'days_in_month': [31, 28, 31, 30, 31, 30, 31, 31, 30, 31, 30, 31]}"
      ]
     },
     "execution_count": 2,
     "metadata": {},
     "output_type": "execute_result"
    }
   ],
   "source": [
    "# Create an example DataFrame\n",
    "\n",
    "df= {'month': ['January','February','March','April','May','June','July','August','September','October','November','December'],\n",
    "        'days_in_month': [31,28,31,30,31,30,31,31,30,31,30,31]\n",
    "        }\n",
    "df"
   ]
  },
  {
   "cell_type": "code",
   "execution_count": 3,
   "id": "8fc63041",
   "metadata": {},
   "outputs": [],
   "source": [
    "df = pd.DataFrame(df, columns = ['month', 'days_in_month'])"
   ]
  },
  {
   "cell_type": "code",
   "execution_count": 4,
   "id": "5de621a1",
   "metadata": {},
   "outputs": [
    {
     "name": "stdout",
     "output_type": "stream",
     "text": [
      "  month  days_in_month\n",
      "5  June             30\n",
      "6  July             31\n"
     ]
    }
   ],
   "source": [
    "#lets fetch only the \"ju\"\n",
    "\n",
    "\n",
    "df = pd.DataFrame(df, columns = ['month', 'days_in_month'])\n",
    "\n",
    "output = df[df['month'].str.contains('Ju')]\n",
    "print (output)"
   ]
  },
  {
   "cell_type": "code",
   "execution_count": 5,
   "id": "9ae56fc4",
   "metadata": {},
   "outputs": [
    {
     "name": "stdout",
     "output_type": "stream",
     "text": [
      "        month  days_in_month\n",
      "0     January             31\n",
      "1    February             28\n",
      "8   September             30\n",
      "9     October             31\n",
      "10   November             30\n",
      "11   December             31\n"
     ]
    }
   ],
   "source": [
    "# lets try fetching month ending with \"ber\" or \"ary\"\n",
    "\n",
    "df = pd.DataFrame(df, columns = ['month', 'days_in_month'])\n",
    "\n",
    "output = df[df['month'].str.contains('ber|ary')] #\"|\" is for or\n",
    "\n",
    "print (output)"
   ]
  },
  {
   "cell_type": "code",
   "execution_count": 6,
   "id": "ff4dd034",
   "metadata": {},
   "outputs": [
    {
     "name": "stdout",
     "output_type": "stream",
     "text": [
      "        month  days_in_month\n",
      "3       April             30\n",
      "5        June             30\n",
      "8   September             30\n",
      "10   November             30\n"
     ]
    }
   ],
   "source": [
    "# Similarly if we want for the months number ending with \"0\"\n",
    "\n",
    "df = pd.DataFrame(df, columns = ['month', 'days_in_month'])\n",
    "\n",
    "output = df[df['days_in_month'].astype(str).str.contains('0')]\n",
    "print (output)"
   ]
  },
  {
   "cell_type": "markdown",
   "id": "42cdc405",
   "metadata": {},
   "source": [
    "### ----------------------------------------------------Question 7 Ends -------------------------------------------------------"
   ]
  },
  {
   "cell_type": "code",
   "execution_count": null,
   "id": "20267ad5",
   "metadata": {},
   "outputs": [],
   "source": []
  }
 ],
 "metadata": {
  "kernelspec": {
   "display_name": "Python 3",
   "language": "python",
   "name": "python3"
  },
  "language_info": {
   "codemirror_mode": {
    "name": "ipython",
    "version": 3
   },
   "file_extension": ".py",
   "mimetype": "text/x-python",
   "name": "python",
   "nbconvert_exporter": "python",
   "pygments_lexer": "ipython3",
   "version": "3.8.8"
  }
 },
 "nbformat": 4,
 "nbformat_minor": 5
}
