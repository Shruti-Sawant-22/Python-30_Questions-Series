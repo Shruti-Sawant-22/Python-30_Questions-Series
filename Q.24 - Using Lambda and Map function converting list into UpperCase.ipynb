{
 "cells": [
  {
   "cell_type": "markdown",
   "id": "344a3ebc",
   "metadata": {},
   "source": [
    "# Using Lambda and Map function converting list into UpperCase."
   ]
  },
  {
   "cell_type": "code",
   "execution_count": 1,
   "id": "2467374f",
   "metadata": {},
   "outputs": [],
   "source": [
    "import pandas as pd "
   ]
  },
  {
   "cell_type": "code",
   "execution_count": 2,
   "id": "86acaf4d",
   "metadata": {},
   "outputs": [
    {
     "data": {
      "text/plain": [
       "['MANGO', 'GRAPES', 'APPLES', 'CHERRY', 'CUSTARD APPLE', 'LICHI', 'GUAVA']"
      ]
     },
     "execution_count": 2,
     "metadata": {},
     "output_type": "execute_result"
    }
   ],
   "source": [
    "fruits=['mango','grapes','apples','cherry','custard apple','lichi','guava']\n",
    "output = map(lambda x:x.upper(), fruits) \n",
    "result=list(output)\n",
    "result"
   ]
  },
  {
   "cell_type": "markdown",
   "id": "99a72acc",
   "metadata": {},
   "source": [
    "*Hence all the list of fruits are in Uppercase*"
   ]
  },
  {
   "cell_type": "markdown",
   "id": "3d6ccc18",
   "metadata": {},
   "source": [
    "## ----------------------------------------------------Question 24 Ends -------------------------------------------------------\n"
   ]
  },
  {
   "cell_type": "code",
   "execution_count": null,
   "id": "506d8e40",
   "metadata": {},
   "outputs": [],
   "source": []
  }
 ],
 "metadata": {
  "kernelspec": {
   "display_name": "Python 3",
   "language": "python",
   "name": "python3"
  },
  "language_info": {
   "codemirror_mode": {
    "name": "ipython",
    "version": 3
   },
   "file_extension": ".py",
   "mimetype": "text/x-python",
   "name": "python",
   "nbconvert_exporter": "python",
   "pygments_lexer": "ipython3",
   "version": "3.8.8"
  }
 },
 "nbformat": 4,
 "nbformat_minor": 5
}
