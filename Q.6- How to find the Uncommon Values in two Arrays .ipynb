{
 "cells": [
  {
   "cell_type": "markdown",
   "id": "92d80d3c",
   "metadata": {},
   "source": [
    "# How to find the uncommon values in two arrays or pandas dataframe columns"
   ]
  },
  {
   "cell_type": "code",
   "execution_count": 1,
   "id": "83312826",
   "metadata": {},
   "outputs": [],
   "source": [
    "# Importing Library\n",
    "\n",
    "import numpy as np"
   ]
  },
  {
   "cell_type": "code",
   "execution_count": 2,
   "id": "588a3e50",
   "metadata": {},
   "outputs": [],
   "source": [
    "# Create two arrays for example\n",
    "\n",
    "# Same example as question no 7 \n",
    "\n",
    "array_1=np.array([10,11,12,13,14])\n",
    "array_2=[12,13,15]"
   ]
  },
  {
   "cell_type": "code",
   "execution_count": 3,
   "id": "ce4776c4",
   "metadata": {},
   "outputs": [
    {
     "data": {
      "text/plain": [
       "array([10, 11, 14, 15])"
      ]
     },
     "execution_count": 3,
     "metadata": {},
     "output_type": "execute_result"
    }
   ],
   "source": [
    "# To find the UNCOMMON values we can simply take difference between UNION and INTERSECTION between two arrays!!\n",
    "\n",
    "\n",
    "np.setdiff1d(np.union1d(array_1,array_2),np.intersect1d(array_1,array_2))"
   ]
  },
  {
   "cell_type": "markdown",
   "id": "f0e64fa7",
   "metadata": {},
   "source": [
    "### ----------------------------------------------------Question 6 Ends -------------------------------------------------------"
   ]
  },
  {
   "cell_type": "code",
   "execution_count": null,
   "id": "702da340",
   "metadata": {},
   "outputs": [],
   "source": []
  }
 ],
 "metadata": {
  "kernelspec": {
   "display_name": "Python 3",
   "language": "python",
   "name": "python3"
  },
  "language_info": {
   "codemirror_mode": {
    "name": "ipython",
    "version": 3
   },
   "file_extension": ".py",
   "mimetype": "text/x-python",
   "name": "python",
   "nbconvert_exporter": "python",
   "pygments_lexer": "ipython3",
   "version": "3.8.8"
  }
 },
 "nbformat": 4,
 "nbformat_minor": 5
}
