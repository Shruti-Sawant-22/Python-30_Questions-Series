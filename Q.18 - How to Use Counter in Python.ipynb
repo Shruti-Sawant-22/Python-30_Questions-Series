{
 "cells": [
  {
   "cell_type": "markdown",
   "id": "b5735bc9",
   "metadata": {},
   "source": [
    "# How to use counter in Python"
   ]
  },
  {
   "cell_type": "markdown",
   "id": "433ec12e",
   "metadata": {},
   "source": [
    "🔷*What is Counter?*                                                                                                            \n",
    "\n",
    "📌Python Counter is a container that will hold the count of each of the elements present in the container.\n",
    "\n",
    "📌The counter is a sub-class available inside the dictionary class specially designed for counting hashable objects in Python.\n",
    "\n",
    "\n",
    "__________________________________________________\n",
    "\n",
    "\n",
    "🔷*How does counter work?*\n",
    "\n",
    "📌To count with Counter, you typically provide a sequence or iterable of hashable objects as an argument to the class’s constructor.\n",
    "\n",
    "📌Counter internally iterates through the input sequence, counts the number of times a given object occurs, and stores objects as keys and the counts as values. \n",
    "\n",
    "\n",
    "_____________________________________________________\n",
    "\n",
    "\n",
    "🔷*Why should we use python counter?*\n",
    "\n",
    "📌The Counter holds the data in an unordered collection, just like hashtable objects.\n",
    "\n",
    "📌The elements here represent the keys and the count as values.\n",
    "\n",
    "📌It allows you to count the items in an iterable list.\n",
    "\n",
    "📌Arithmetic operations like addition, subtraction, intersection, and union can be easily performed on a Counter.\n",
    "\n",
    "📌A Counter can also count elements from another counter"
   ]
  },
  {
   "cell_type": "code",
   "execution_count": 1,
   "id": "42bc61db",
   "metadata": {},
   "outputs": [],
   "source": [
    "  \n",
    "#lets say we have a list of country name\n",
    "#we want to to check how many times/count for each unique country name have been repeated.\n",
    "\n",
    "from collections import Counter"
   ]
  },
  {
   "cell_type": "code",
   "execution_count": 2,
   "id": "2a7b893a",
   "metadata": {},
   "outputs": [],
   "source": [
    "country = [\"Ind\",\"Ind\",\"Ind\",\"Ind\",\"Aus\",\"Aus\",\"Aus\",\"Aus\",\"US\",\"US\",]"
   ]
  },
  {
   "cell_type": "code",
   "execution_count": 3,
   "id": "b3a3ff78",
   "metadata": {},
   "outputs": [
    {
     "data": {
      "text/plain": [
       "Counter({'Ind': 4, 'Aus': 4, 'US': 2})"
      ]
     },
     "execution_count": 3,
     "metadata": {},
     "output_type": "execute_result"
    }
   ],
   "source": [
    "Counter(country)"
   ]
  },
  {
   "cell_type": "markdown",
   "id": "166c8120",
   "metadata": {},
   "source": [
    "*From the above result it's clear that the count of India, Aus, and US is 4,4,2 respectively.*"
   ]
  },
  {
   "cell_type": "markdown",
   "id": "a672323e",
   "metadata": {},
   "source": [
    "## ----------------------------------------------------Question 18 Ends -------------------------------------------------------"
   ]
  },
  {
   "cell_type": "code",
   "execution_count": null,
   "id": "8538fe23",
   "metadata": {},
   "outputs": [],
   "source": []
  }
 ],
 "metadata": {
  "kernelspec": {
   "display_name": "Python 3",
   "language": "python",
   "name": "python3"
  },
  "language_info": {
   "codemirror_mode": {
    "name": "ipython",
    "version": 3
   },
   "file_extension": ".py",
   "mimetype": "text/x-python",
   "name": "python",
   "nbconvert_exporter": "python",
   "pygments_lexer": "ipython3",
   "version": "3.8.8"
  }
 },
 "nbformat": 4,
 "nbformat_minor": 5
}
