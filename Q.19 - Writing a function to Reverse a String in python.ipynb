{
 "cells": [
  {
   "cell_type": "markdown",
   "id": "c6203b1e",
   "metadata": {},
   "source": [
    "# Write a Function to Reverse a string"
   ]
  },
  {
   "cell_type": "code",
   "execution_count": 1,
   "id": "07057392",
   "metadata": {},
   "outputs": [],
   "source": [
    "import pandas as pd"
   ]
  },
  {
   "cell_type": "code",
   "execution_count": 2,
   "id": "93c245b3",
   "metadata": {},
   "outputs": [],
   "source": [
    "#Function to reverse a string\n",
    "def reverse(string):\n",
    "    string = string[::-1]\n",
    "    return string\n",
    "  "
   ]
  },
  {
   "cell_type": "code",
   "execution_count": 3,
   "id": "f9f9076a",
   "metadata": {},
   "outputs": [
    {
     "name": "stdout",
     "output_type": "stream",
     "text": [
      "The reversed string is :  ecneicS ataD sevol iturhS\n"
     ]
    }
   ],
   "source": [
    "a='Shruti loves Data Science'\n",
    "result=reverse(a)\n",
    "print(\"The reversed string is : \",result)"
   ]
  },
  {
   "cell_type": "markdown",
   "id": "6b589fe6",
   "metadata": {},
   "source": [
    "**Explanation : Extended slice offers to put a “step” field as [start,stop,step],and giving no field as start and stop indicates default to 0 and string length respectively and “-1” denotes starting from end and stop at the start, hence reversing string.**"
   ]
  },
  {
   "cell_type": "markdown",
   "id": "2fde658c",
   "metadata": {},
   "source": [
    "## ----------------------------------------------------Question 19 Ends -------------------------------------------------------"
   ]
  },
  {
   "cell_type": "code",
   "execution_count": null,
   "id": "68498b54",
   "metadata": {},
   "outputs": [],
   "source": []
  }
 ],
 "metadata": {
  "kernelspec": {
   "display_name": "Python 3",
   "language": "python",
   "name": "python3"
  },
  "language_info": {
   "codemirror_mode": {
    "name": "ipython",
    "version": 3
   },
   "file_extension": ".py",
   "mimetype": "text/x-python",
   "name": "python",
   "nbconvert_exporter": "python",
   "pygments_lexer": "ipython3",
   "version": "3.8.8"
  }
 },
 "nbformat": 4,
 "nbformat_minor": 5
}
