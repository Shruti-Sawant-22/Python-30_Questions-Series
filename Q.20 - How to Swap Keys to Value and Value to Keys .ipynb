{
 "cells": [
  {
   "cell_type": "markdown",
   "id": "eed654a8",
   "metadata": {},
   "source": [
    "# Swap Keys to Values and Values to keys "
   ]
  },
  {
   "cell_type": "code",
   "execution_count": 1,
   "id": "bf13734d",
   "metadata": {},
   "outputs": [],
   "source": [
    "import pandas as pd"
   ]
  },
  {
   "cell_type": "code",
   "execution_count": 2,
   "id": "5552badc",
   "metadata": {},
   "outputs": [],
   "source": [
    "#creating a dummy key-value pair.\n",
    "#course = {'Data Science':1,'Machine Learning':2, 'SQL':3, 'Big Data':4}---------given question\n",
    "#Output: {1:'Data Science',2:'Machine Learning', 3:'SQL', 4:'Big Data'}----------expected output\n"
   ]
  },
  {
   "cell_type": "code",
   "execution_count": 3,
   "id": "fc819352",
   "metadata": {},
   "outputs": [
    {
     "data": {
      "text/plain": [
       "{1: 'Data Science', 2: 'Machine Learning', 3: 'SQL', 4: 'Big Data'}"
      ]
     },
     "execution_count": 3,
     "metadata": {},
     "output_type": "execute_result"
    }
   ],
   "source": [
    "course = {'Data Science':1,\n",
    "          'Machine Learning':2, \n",
    "          'SQL':3,\n",
    "          'Big Data':4}\n",
    "\n",
    "output = dict([(value, key) for key, value in course.items()])\n",
    "output"
   ]
  },
  {
   "cell_type": "markdown",
   "id": "e6bdad7a",
   "metadata": {},
   "source": [
    "*The above output indicates that the keys and values have been swaped*."
   ]
  },
  {
   "cell_type": "markdown",
   "id": "5f6107de",
   "metadata": {},
   "source": [
    "## ----------------------------------------------------Question 20 Ends -------------------------------------------------------"
   ]
  }
 ],
 "metadata": {
  "kernelspec": {
   "display_name": "Python 3",
   "language": "python",
   "name": "python3"
  },
  "language_info": {
   "codemirror_mode": {
    "name": "ipython",
    "version": 3
   },
   "file_extension": ".py",
   "mimetype": "text/x-python",
   "name": "python",
   "nbconvert_exporter": "python",
   "pygments_lexer": "ipython3",
   "version": "3.8.8"
  }
 },
 "nbformat": 4,
 "nbformat_minor": 5
}
