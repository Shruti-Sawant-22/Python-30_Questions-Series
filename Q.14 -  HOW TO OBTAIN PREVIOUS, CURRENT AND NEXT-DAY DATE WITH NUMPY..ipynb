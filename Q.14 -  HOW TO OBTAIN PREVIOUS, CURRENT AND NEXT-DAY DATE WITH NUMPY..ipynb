{
 "cells": [
  {
   "cell_type": "markdown",
   "id": "81eecebf",
   "metadata": {},
   "source": [
    "## HOW TO OBTAIN PREVIOUS, CURRENT AND NEXT-DAY DATE WITH NUMPY."
   ]
  },
  {
   "cell_type": "code",
   "execution_count": 1,
   "id": "5b5720d9",
   "metadata": {},
   "outputs": [],
   "source": [
    "import numpy as np \n"
   ]
  },
  {
   "cell_type": "code",
   "execution_count": 2,
   "id": "5a29942a",
   "metadata": {},
   "outputs": [],
   "source": [
    "PREVIOUS_DAY = np.datetime64('today') - np.timedelta64(1)\n",
    "CURRENT_DAY = np.datetime64('today')\n",
    "NEXT_DAY = np.datetime64('today') + np.timedelta64(1)"
   ]
  },
  {
   "cell_type": "code",
   "execution_count": 3,
   "id": "b1d0e301",
   "metadata": {},
   "outputs": [
    {
     "name": "stdout",
     "output_type": "stream",
     "text": [
      "Previous day / Yesterday :  2022-04-02\n",
      "---------------------------------\n",
      "Current Day / Today :  2022-04-03\n",
      "---------------------------------\n",
      "Next Day / Tomorrow :  2022-04-04\n"
     ]
    }
   ],
   "source": [
    "#Printing the results.\n",
    "\n",
    "PREVIOUS_DAY = np.datetime64('today') - np.timedelta64(1)\n",
    "print('Previous day / Yesterday : ',PREVIOUS_DAY)\n",
    "print('---------------------------------')\n",
    "CURRENT_DAY = np.datetime64('today')\n",
    "print('Current Day / Today : ',CURRENT_DAY)\n",
    "print('---------------------------------')\n",
    "NEXT_DAY = np.datetime64('today') + np.timedelta64(1)\n",
    "print('Next Day / Tomorrow : ',NEXT_DAY)\n"
   ]
  },
  {
   "cell_type": "markdown",
   "id": "3f36887d",
   "metadata": {},
   "source": [
    "### ----------------------------------------------------Question 14 Ends -------------------------------------------------------"
   ]
  },
  {
   "cell_type": "code",
   "execution_count": null,
   "id": "bb22b793",
   "metadata": {},
   "outputs": [],
   "source": []
  }
 ],
 "metadata": {
  "kernelspec": {
   "display_name": "Python 3",
   "language": "python",
   "name": "python3"
  },
  "language_info": {
   "codemirror_mode": {
    "name": "ipython",
    "version": 3
   },
   "file_extension": ".py",
   "mimetype": "text/x-python",
   "name": "python",
   "nbconvert_exporter": "python",
   "pygments_lexer": "ipython3",
   "version": "3.8.8"
  }
 },
 "nbformat": 4,
 "nbformat_minor": 5
}
