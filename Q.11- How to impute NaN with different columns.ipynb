{
 "cells": [
  {
   "cell_type": "markdown",
   "id": "77344494",
   "metadata": {},
   "source": [
    "# How to impute NaN with different columns\n"
   ]
  },
  {
   "cell_type": "code",
   "execution_count": 1,
   "id": "32677de3",
   "metadata": {},
   "outputs": [],
   "source": [
    "# Importing Library\n",
    "\n",
    "import pandas as pd\n",
    "import numpy as np"
   ]
  },
  {
   "cell_type": "code",
   "execution_count": 2,
   "id": "595e3665",
   "metadata": {},
   "outputs": [
    {
     "data": {
      "text/html": [
       "<div>\n",
       "<style scoped>\n",
       "    .dataframe tbody tr th:only-of-type {\n",
       "        vertical-align: middle;\n",
       "    }\n",
       "\n",
       "    .dataframe tbody tr th {\n",
       "        vertical-align: top;\n",
       "    }\n",
       "\n",
       "    .dataframe thead th {\n",
       "        text-align: right;\n",
       "    }\n",
       "</style>\n",
       "<table border=\"1\" class=\"dataframe\">\n",
       "  <thead>\n",
       "    <tr style=\"text-align: right;\">\n",
       "      <th></th>\n",
       "      <th>Topic1</th>\n",
       "      <th>Topic2</th>\n",
       "    </tr>\n",
       "  </thead>\n",
       "  <tbody>\n",
       "    <tr>\n",
       "      <th>0</th>\n",
       "      <td>Linear Reg</td>\n",
       "      <td>OLS</td>\n",
       "    </tr>\n",
       "    <tr>\n",
       "      <th>1</th>\n",
       "      <td>K-Means</td>\n",
       "      <td>Elbow-point</td>\n",
       "    </tr>\n",
       "    <tr>\n",
       "      <th>2</th>\n",
       "      <td>NaN</td>\n",
       "      <td>Confusion Matrix</td>\n",
       "    </tr>\n",
       "    <tr>\n",
       "      <th>3</th>\n",
       "      <td>Neural Net</td>\n",
       "      <td>Deep Learning</td>\n",
       "    </tr>\n",
       "    <tr>\n",
       "      <th>4</th>\n",
       "      <td>SVM</td>\n",
       "      <td>KErnel</td>\n",
       "    </tr>\n",
       "    <tr>\n",
       "      <th>5</th>\n",
       "      <td>NaN</td>\n",
       "      <td>KNN</td>\n",
       "    </tr>\n",
       "  </tbody>\n",
       "</table>\n",
       "</div>"
      ],
      "text/plain": [
       "       Topic1            Topic2\n",
       "0  Linear Reg               OLS\n",
       "1     K-Means       Elbow-point\n",
       "2         NaN  Confusion Matrix\n",
       "3  Neural Net     Deep Learning\n",
       "4         SVM            KErnel\n",
       "5         NaN               KNN"
      ]
     },
     "execution_count": 2,
     "metadata": {},
     "output_type": "execute_result"
    }
   ],
   "source": [
    "# Create an example DataFrame\n",
    "\n",
    "df= pd.DataFrame({\"Topic1\":['Linear Reg','K-Means',np.nan,'Neural Net','SVM',np.nan],\n",
    "                 \"Topic2\":['OLS','Elbow-point','Confusion Matrix','Deep Learning','KErnel','KNN']})\n",
    "df"
   ]
  },
  {
   "cell_type": "markdown",
   "id": "079b7160",
   "metadata": {},
   "source": [
    " -----> Here we need to Fill NaN value with the value just right in front of it                                        \n",
    " \n",
    "------> This sum can be done in Two methods"
   ]
  },
  {
   "cell_type": "markdown",
   "id": "86023c10",
   "metadata": {},
   "source": [
    "# Method 1: Using loc "
   ]
  },
  {
   "cell_type": "code",
   "execution_count": 3,
   "id": "d1663fbc",
   "metadata": {},
   "outputs": [
    {
     "data": {
      "text/html": [
       "<div>\n",
       "<style scoped>\n",
       "    .dataframe tbody tr th:only-of-type {\n",
       "        vertical-align: middle;\n",
       "    }\n",
       "\n",
       "    .dataframe tbody tr th {\n",
       "        vertical-align: top;\n",
       "    }\n",
       "\n",
       "    .dataframe thead th {\n",
       "        text-align: right;\n",
       "    }\n",
       "</style>\n",
       "<table border=\"1\" class=\"dataframe\">\n",
       "  <thead>\n",
       "    <tr style=\"text-align: right;\">\n",
       "      <th></th>\n",
       "      <th>Topic1</th>\n",
       "      <th>Topic2</th>\n",
       "    </tr>\n",
       "  </thead>\n",
       "  <tbody>\n",
       "    <tr>\n",
       "      <th>0</th>\n",
       "      <td>Linear Reg</td>\n",
       "      <td>OLS</td>\n",
       "    </tr>\n",
       "    <tr>\n",
       "      <th>1</th>\n",
       "      <td>K-Means</td>\n",
       "      <td>Elbow-point</td>\n",
       "    </tr>\n",
       "    <tr>\n",
       "      <th>2</th>\n",
       "      <td>Confusion Matrix</td>\n",
       "      <td>Confusion Matrix</td>\n",
       "    </tr>\n",
       "    <tr>\n",
       "      <th>3</th>\n",
       "      <td>Neural Net</td>\n",
       "      <td>Deep Learning</td>\n",
       "    </tr>\n",
       "    <tr>\n",
       "      <th>4</th>\n",
       "      <td>SVM</td>\n",
       "      <td>KErnel</td>\n",
       "    </tr>\n",
       "    <tr>\n",
       "      <th>5</th>\n",
       "      <td>KNN</td>\n",
       "      <td>KNN</td>\n",
       "    </tr>\n",
       "  </tbody>\n",
       "</table>\n",
       "</div>"
      ],
      "text/plain": [
       "             Topic1            Topic2\n",
       "0        Linear Reg               OLS\n",
       "1           K-Means       Elbow-point\n",
       "2  Confusion Matrix  Confusion Matrix\n",
       "3        Neural Net     Deep Learning\n",
       "4               SVM            KErnel\n",
       "5               KNN               KNN"
      ]
     },
     "execution_count": 3,
     "metadata": {},
     "output_type": "execute_result"
    }
   ],
   "source": [
    "df.loc[2,\"Topic1\"]=\"Confusion Matrix\"\n",
    "df.loc[5,\"Topic1\"]=\"KNN\"\n",
    "df"
   ]
  },
  {
   "cell_type": "markdown",
   "id": "6b82140c",
   "metadata": {},
   "source": [
    "### Conclusion from Method 1 : Here there were only two values so we could code it. What if there are many? So we can conclude that even though it does the work it can't be the optimum method. So what will be the optimum method? Check for Method 2 "
   ]
  },
  {
   "cell_type": "markdown",
   "id": "64840c02",
   "metadata": {},
   "source": [
    "# Method 2: Using fillna !"
   ]
  },
  {
   "cell_type": "code",
   "execution_count": 4,
   "id": "6b3f337a",
   "metadata": {},
   "outputs": [
    {
     "data": {
      "text/html": [
       "<div>\n",
       "<style scoped>\n",
       "    .dataframe tbody tr th:only-of-type {\n",
       "        vertical-align: middle;\n",
       "    }\n",
       "\n",
       "    .dataframe tbody tr th {\n",
       "        vertical-align: top;\n",
       "    }\n",
       "\n",
       "    .dataframe thead th {\n",
       "        text-align: right;\n",
       "    }\n",
       "</style>\n",
       "<table border=\"1\" class=\"dataframe\">\n",
       "  <thead>\n",
       "    <tr style=\"text-align: right;\">\n",
       "      <th></th>\n",
       "      <th>Topic1</th>\n",
       "      <th>Topic2</th>\n",
       "    </tr>\n",
       "  </thead>\n",
       "  <tbody>\n",
       "    <tr>\n",
       "      <th>0</th>\n",
       "      <td>Linear Reg</td>\n",
       "      <td>OLS</td>\n",
       "    </tr>\n",
       "    <tr>\n",
       "      <th>1</th>\n",
       "      <td>K-Means</td>\n",
       "      <td>Elbow-point</td>\n",
       "    </tr>\n",
       "    <tr>\n",
       "      <th>2</th>\n",
       "      <td>Confusion Matrix</td>\n",
       "      <td>Confusion Matrix</td>\n",
       "    </tr>\n",
       "    <tr>\n",
       "      <th>3</th>\n",
       "      <td>Neural Net</td>\n",
       "      <td>Deep Learning</td>\n",
       "    </tr>\n",
       "    <tr>\n",
       "      <th>4</th>\n",
       "      <td>SVM</td>\n",
       "      <td>KErnel</td>\n",
       "    </tr>\n",
       "    <tr>\n",
       "      <th>5</th>\n",
       "      <td>KNN</td>\n",
       "      <td>KNN</td>\n",
       "    </tr>\n",
       "  </tbody>\n",
       "</table>\n",
       "</div>"
      ],
      "text/plain": [
       "             Topic1            Topic2\n",
       "0        Linear Reg               OLS\n",
       "1           K-Means       Elbow-point\n",
       "2  Confusion Matrix  Confusion Matrix\n",
       "3        Neural Net     Deep Learning\n",
       "4               SVM            KErnel\n",
       "5               KNN               KNN"
      ]
     },
     "execution_count": 4,
     "metadata": {},
     "output_type": "execute_result"
    }
   ],
   "source": [
    "df[\"Topic1\"].fillna(df[\"Topic2\"],inplace=True)\n",
    "df"
   ]
  },
  {
   "cell_type": "markdown",
   "id": "4179009d",
   "metadata": {},
   "source": [
    "### ----------------------------------------------------Question 11 Ends -------------------------------------------------------"
   ]
  },
  {
   "cell_type": "code",
   "execution_count": null,
   "id": "2fbfaa2b",
   "metadata": {},
   "outputs": [],
   "source": []
  }
 ],
 "metadata": {
  "kernelspec": {
   "display_name": "Python 3",
   "language": "python",
   "name": "python3"
  },
  "language_info": {
   "codemirror_mode": {
    "name": "ipython",
    "version": 3
   },
   "file_extension": ".py",
   "mimetype": "text/x-python",
   "name": "python",
   "nbconvert_exporter": "python",
   "pygments_lexer": "ipython3",
   "version": "3.8.8"
  }
 },
 "nbformat": 4,
 "nbformat_minor": 5
}
