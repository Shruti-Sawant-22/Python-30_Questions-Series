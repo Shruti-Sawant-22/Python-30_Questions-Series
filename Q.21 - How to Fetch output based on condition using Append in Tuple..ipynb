{
 "cells": [
  {
   "cell_type": "markdown",
   "id": "0c5e6d8c",
   "metadata": {},
   "source": [
    "# How to Fetch output based on condition using Append in Tuple."
   ]
  },
  {
   "cell_type": "code",
   "execution_count": 1,
   "id": "325853c6",
   "metadata": {},
   "outputs": [],
   "source": [
    "import pandas as pd"
   ]
  },
  {
   "cell_type": "code",
   "execution_count": 2,
   "id": "9e62c45d",
   "metadata": {},
   "outputs": [
    {
     "name": "stdout",
     "output_type": "stream",
     "text": [
      "list of fruits with sour taste are :  ['Lemon', 'Grapes', 'Kiwi', 'Orange', 'Limes']\n"
     ]
    }
   ],
   "source": [
    "#here the condition is that we shall fetch only those fruits which are sour in taste from the tuple given below.\n",
    "\n",
    "fruits=(('Lemon','sour'),\n",
    "        ('DragonFruit','Sweet'),\n",
    "        ('Grapes', 'sour'),\n",
    "        ('Kiwi','sour'),\n",
    "        ('Apple','Sweet'),\n",
    "        ('Orange','sour'),\n",
    "        ('Blueberries','Sweet'),\n",
    "        ('Limes','sour'))\n",
    "\n",
    "#creating an empty list and using append method in a for loop.\n",
    "l=[]\n",
    "for i in fruits:\n",
    "    if 'sour' in i:\n",
    "        l.append(i[0])\n",
    "print('list of fruits with sour taste are : ',l)"
   ]
  },
  {
   "cell_type": "markdown",
   "id": "c1bdb640",
   "metadata": {},
   "source": [
    "## ----------------------------------------------------Question 21 Ends -------------------------------------------------------"
   ]
  },
  {
   "cell_type": "code",
   "execution_count": null,
   "id": "c210cd21",
   "metadata": {},
   "outputs": [],
   "source": []
  }
 ],
 "metadata": {
  "kernelspec": {
   "display_name": "Python 3",
   "language": "python",
   "name": "python3"
  },
  "language_info": {
   "codemirror_mode": {
    "name": "ipython",
    "version": 3
   },
   "file_extension": ".py",
   "mimetype": "text/x-python",
   "name": "python",
   "nbconvert_exporter": "python",
   "pygments_lexer": "ipython3",
   "version": "3.8.8"
  }
 },
 "nbformat": 4,
 "nbformat_minor": 5
}
