{
 "cells": [
  {
   "cell_type": "markdown",
   "id": "f05ba06d",
   "metadata": {},
   "source": [
    "# Finding Squares and Cubes through function in python"
   ]
  },
  {
   "cell_type": "code",
   "execution_count": 1,
   "id": "18d81b75",
   "metadata": {},
   "outputs": [],
   "source": [
    "import pandas as pd "
   ]
  },
  {
   "cell_type": "code",
   "execution_count": 2,
   "id": "349b369a",
   "metadata": {},
   "outputs": [
    {
     "name": "stdout",
     "output_type": "stream",
     "text": [
      "Squares from 1 to 25 :  [1, 4, 9, 16, 25, 36, 49, 64, 81, 100, 121, 144, 169, 196, 225, 256, 289, 324, 361, 400, 441, 484, 529, 576, 625]\n"
     ]
    }
   ],
   "source": [
    "#defining a function to find squares \n",
    "def printvalues():\n",
    "    l1 = list()\n",
    "    for i in range(1,26):  #---------------------------->since its one less take 26 so that 25 would be included\n",
    "        l1.append(i**2)\n",
    "    print('Squares from 1 to 25 : ',l1) \n",
    "printvalues()"
   ]
  },
  {
   "cell_type": "code",
   "execution_count": 3,
   "id": "dad138b4",
   "metadata": {},
   "outputs": [
    {
     "name": "stdout",
     "output_type": "stream",
     "text": [
      "Cube from 1 to 25 :  [1, 8, 27, 64, 125, 216, 343, 512, 729, 1000, 1331, 1728, 2197, 2744, 3375, 4096, 4913, 5832, 6859, 8000, 9261, 10648, 12167, 13824, 15625]\n"
     ]
    }
   ],
   "source": [
    "#similarly defining a function for cube\n",
    "def printvalues():\n",
    "    l1 = list()\n",
    "    for i in range(1,26):  #----------------------------->since its one less take 26 so that 25 would be included\n",
    "        l1.append(i**3)\n",
    "    print('Cube from 1 to 25 : ',l1)    \n",
    "printvalues()  \n",
    "    "
   ]
  },
  {
   "cell_type": "markdown",
   "id": "b835351c",
   "metadata": {},
   "source": [
    "## ----------------------------------------------------Question 25 Ends -------------------------------------------------------\n"
   ]
  },
  {
   "cell_type": "code",
   "execution_count": null,
   "id": "4c9908c9",
   "metadata": {},
   "outputs": [],
   "source": []
  }
 ],
 "metadata": {
  "kernelspec": {
   "display_name": "Python 3",
   "language": "python",
   "name": "python3"
  },
  "language_info": {
   "codemirror_mode": {
    "name": "ipython",
    "version": 3
   },
   "file_extension": ".py",
   "mimetype": "text/x-python",
   "name": "python",
   "nbconvert_exporter": "python",
   "pygments_lexer": "ipython3",
   "version": "3.8.8"
  }
 },
 "nbformat": 4,
 "nbformat_minor": 5
}
