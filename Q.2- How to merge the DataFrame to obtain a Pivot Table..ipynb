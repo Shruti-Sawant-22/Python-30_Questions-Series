{
 "cells": [
  {
   "cell_type": "markdown",
   "id": "01171b86",
   "metadata": {},
   "source": [
    "# Q.2 How to merge the DataFrame to obtain a Pivot Table.\n"
   ]
  },
  {
   "cell_type": "code",
   "execution_count": 3,
   "id": "41dcc8ce",
   "metadata": {},
   "outputs": [],
   "source": [
    "#Import library\n",
    "\n",
    "import pandas as pd"
   ]
  },
  {
   "cell_type": "code",
   "execution_count": 4,
   "id": "f0e2f0cd",
   "metadata": {},
   "outputs": [],
   "source": [
    "#Create a Example\n",
    "\n",
    "user_id=[\"user_001\",\"user_002\",\"user_003\",\"user_004\"]\n",
    "ratings=[3.0,1.0,5.0,2.0]\n",
    "title=[\"Pulp Fiction (1994)\",\"Pulp Fiction (1994)\",\"Pulp Fiction (1994)\",\"Pulp Fiction (1994)\"]"
   ]
  },
  {
   "cell_type": "code",
   "execution_count": 5,
   "id": "a44d5462",
   "metadata": {},
   "outputs": [
    {
     "data": {
      "text/html": [
       "<div>\n",
       "<style scoped>\n",
       "    .dataframe tbody tr th:only-of-type {\n",
       "        vertical-align: middle;\n",
       "    }\n",
       "\n",
       "    .dataframe tbody tr th {\n",
       "        vertical-align: top;\n",
       "    }\n",
       "\n",
       "    .dataframe thead th {\n",
       "        text-align: right;\n",
       "    }\n",
       "</style>\n",
       "<table border=\"1\" class=\"dataframe\">\n",
       "  <thead>\n",
       "    <tr style=\"text-align: right;\">\n",
       "      <th></th>\n",
       "      <th>userId</th>\n",
       "      <th>Ratings</th>\n",
       "      <th>Title</th>\n",
       "    </tr>\n",
       "  </thead>\n",
       "  <tbody>\n",
       "    <tr>\n",
       "      <th>0</th>\n",
       "      <td>user_001</td>\n",
       "      <td>3.0</td>\n",
       "      <td>Pulp Fiction (1994)</td>\n",
       "    </tr>\n",
       "    <tr>\n",
       "      <th>1</th>\n",
       "      <td>user_002</td>\n",
       "      <td>1.0</td>\n",
       "      <td>Pulp Fiction (1994)</td>\n",
       "    </tr>\n",
       "    <tr>\n",
       "      <th>2</th>\n",
       "      <td>user_003</td>\n",
       "      <td>5.0</td>\n",
       "      <td>Pulp Fiction (1994)</td>\n",
       "    </tr>\n",
       "    <tr>\n",
       "      <th>3</th>\n",
       "      <td>user_004</td>\n",
       "      <td>2.0</td>\n",
       "      <td>Pulp Fiction (1994)</td>\n",
       "    </tr>\n",
       "  </tbody>\n",
       "</table>\n",
       "</div>"
      ],
      "text/plain": [
       "     userId  Ratings                Title\n",
       "0  user_001      3.0  Pulp Fiction (1994)\n",
       "1  user_002      1.0  Pulp Fiction (1994)\n",
       "2  user_003      5.0  Pulp Fiction (1994)\n",
       "3  user_004      2.0  Pulp Fiction (1994)"
      ]
     },
     "execution_count": 5,
     "metadata": {},
     "output_type": "execute_result"
    }
   ],
   "source": [
    "#Storing the above Example in a Form of a DataFrame\n",
    "\n",
    "df=pd.DataFrame({\"userId\":user_id,\n",
    "                \"Ratings\":ratings,\n",
    "                \"Title\":title})\n",
    "df"
   ]
  },
  {
   "cell_type": "code",
   "execution_count": 6,
   "id": "bd992edf",
   "metadata": {},
   "outputs": [
    {
     "data": {
      "text/html": [
       "<div>\n",
       "<style scoped>\n",
       "    .dataframe tbody tr th:only-of-type {\n",
       "        vertical-align: middle;\n",
       "    }\n",
       "\n",
       "    .dataframe tbody tr th {\n",
       "        vertical-align: top;\n",
       "    }\n",
       "\n",
       "    .dataframe thead th {\n",
       "        text-align: right;\n",
       "    }\n",
       "</style>\n",
       "<table border=\"1\" class=\"dataframe\">\n",
       "  <thead>\n",
       "    <tr style=\"text-align: right;\">\n",
       "      <th>Title</th>\n",
       "      <th>Pulp Fiction (1994)</th>\n",
       "    </tr>\n",
       "    <tr>\n",
       "      <th>userId</th>\n",
       "      <th></th>\n",
       "    </tr>\n",
       "  </thead>\n",
       "  <tbody>\n",
       "    <tr>\n",
       "      <th>user_001</th>\n",
       "      <td>3.0</td>\n",
       "    </tr>\n",
       "    <tr>\n",
       "      <th>user_002</th>\n",
       "      <td>1.0</td>\n",
       "    </tr>\n",
       "    <tr>\n",
       "      <th>user_003</th>\n",
       "      <td>5.0</td>\n",
       "    </tr>\n",
       "    <tr>\n",
       "      <th>user_004</th>\n",
       "      <td>2.0</td>\n",
       "    </tr>\n",
       "  </tbody>\n",
       "</table>\n",
       "</div>"
      ],
      "text/plain": [
       "Title     Pulp Fiction (1994)\n",
       "userId                       \n",
       "user_001                  3.0\n",
       "user_002                  1.0\n",
       "user_003                  5.0\n",
       "user_004                  2.0"
      ]
     },
     "execution_count": 6,
     "metadata": {},
     "output_type": "execute_result"
    }
   ],
   "source": [
    "#create a Pivot Table from the above DataFrame\n",
    "\n",
    "df.pivot(index=\"userId\",columns=\"Title\",values=\"Ratings\")"
   ]
  },
  {
   "cell_type": "markdown",
   "id": "5c50793e",
   "metadata": {},
   "source": [
    "### ------------------------------------------------Question 2 Ends -------------------------------------------------------"
   ]
  },
  {
   "cell_type": "code",
   "execution_count": null,
   "id": "b486bb36",
   "metadata": {},
   "outputs": [],
   "source": []
  }
 ],
 "metadata": {
  "kernelspec": {
   "display_name": "Python 3",
   "language": "python",
   "name": "python3"
  },
  "language_info": {
   "codemirror_mode": {
    "name": "ipython",
    "version": 3
   },
   "file_extension": ".py",
   "mimetype": "text/x-python",
   "name": "python",
   "nbconvert_exporter": "python",
   "pygments_lexer": "ipython3",
   "version": "3.8.8"
  }
 },
 "nbformat": 4,
 "nbformat_minor": 5
}
