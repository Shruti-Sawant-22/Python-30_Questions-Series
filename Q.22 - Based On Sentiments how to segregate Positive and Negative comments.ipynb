{
 "cells": [
  {
   "cell_type": "markdown",
   "id": "c69dad7a",
   "metadata": {},
   "source": [
    "# Segregatting comments based on Positive and Negative Sentiments."
   ]
  },
  {
   "cell_type": "code",
   "execution_count": 1,
   "id": "ab63e8fc",
   "metadata": {},
   "outputs": [],
   "source": [
    "import pandas as pd "
   ]
  },
  {
   "cell_type": "code",
   "execution_count": 2,
   "id": "36d1f14a",
   "metadata": {},
   "outputs": [
    {
     "name": "stdout",
     "output_type": "stream",
     "text": [
      "Positive comments :  ['he is a good boy', 'he is an awesome player', 'she is the best', 'this burger is really nice']\n",
      "Negative comments :  ['food is worst here', 'pizza taste awful ']\n"
     ]
    }
   ],
   "source": [
    "#creating a list of positive and negative comments.\n",
    "\n",
    "positive=['good','awesome','best','nice']\n",
    "negative=['worst','awful']\n",
    "comments=['he is a good boy','food is worst here','he is an awesome player','she is the best',\n",
    "           'pizza taste awful ','this burger is really nice']\n",
    "\n",
    "#empty list of positive comments\n",
    "positive_comments = []\n",
    "#empty list of negative comments\n",
    "negative_comments = []  \n",
    "\n",
    "#writing a loop for the same and using append method \n",
    "for i in comments:\n",
    "    for j in positive:\n",
    "        if j in i :\n",
    "            positive_comments.append(i)\n",
    "    for j in negative:\n",
    "        if j in i:\n",
    "            negative_comments.append(i)\n",
    "            \n",
    "#PRINT THE FUNCTION            \n",
    "print(\"Positive comments : \",positive_comments)\n",
    "print(\"Negative comments : \",negative_comments)           "
   ]
  },
  {
   "cell_type": "markdown",
   "id": "bf23ae2e",
   "metadata": {},
   "source": [
    "## ----------------------------------------------------Question 22 Ends -------------------------------------------------------"
   ]
  },
  {
   "cell_type": "code",
   "execution_count": null,
   "id": "c19d85d8",
   "metadata": {},
   "outputs": [],
   "source": []
  }
 ],
 "metadata": {
  "kernelspec": {
   "display_name": "Python 3",
   "language": "python",
   "name": "python3"
  },
  "language_info": {
   "codemirror_mode": {
    "name": "ipython",
    "version": 3
   },
   "file_extension": ".py",
   "mimetype": "text/x-python",
   "name": "python",
   "nbconvert_exporter": "python",
   "pygments_lexer": "ipython3",
   "version": "3.8.8"
  }
 },
 "nbformat": 4,
 "nbformat_minor": 5
}
